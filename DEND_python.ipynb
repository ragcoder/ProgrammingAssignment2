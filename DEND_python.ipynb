{
  "nbformat": 4,
  "nbformat_minor": 0,
  "metadata": {
    "colab": {
      "name": "DEND_python.ipynb",
      "provenance": [],
      "collapsed_sections": [
        "jPlwBPudoito",
        "a18M-19aoitq",
        "08xVuHNFoitx",
        "XOkZcsUDoit1",
        "lctRqD4roit4",
        "7uPkpfE3oit8",
        "iiiW6r1uoiuI",
        "u9G-1ZQLoiuL",
        "wA7uBAoloiuP",
        "4MxSrmpdoiuS",
        "CYW8Xxe1oiuU",
        "n8X0vNwloiuY",
        "-ORXAjnHoiud",
        "2RN3zeaLoiup",
        "Tu7yu50Voiur",
        "gJD31_qJoiuu",
        "vjG1_Qf1oiuw",
        "NaI3pSm1oiuy",
        "qo-xef0Joiu0",
        "NH7zZRhaoiu6"
      ],
      "include_colab_link": true
    },
    "language_info": {
      "codemirror_mode": {
        "name": "ipython",
        "version": 3
      },
      "file_extension": ".py",
      "mimetype": "text/x-python",
      "name": "python",
      "nbconvert_exporter": "python",
      "pygments_lexer": "ipython3",
      "version": "3.5.5"
    },
    "kernelspec": {
      "display_name": "Python 3",
      "language": "python",
      "name": "python3"
    }
  },
  "cells": [
    {
      "cell_type": "markdown",
      "metadata": {
        "id": "view-in-github",
        "colab_type": "text"
      },
      "source": [
        "<a href=\"https://colab.research.google.com/github/ragcoder/ProgrammingAssignment2/blob/master/DEND_python.ipynb\" target=\"_parent\"><img src=\"https://colab.research.google.com/assets/colab-badge.svg\" alt=\"Open In Colab\"/></a>"
      ]
    },
    {
      "cell_type": "markdown",
      "metadata": {
        "id": "jPlwBPudoito",
        "colab_type": "text"
      },
      "source": [
        "## Python Recap"
      ]
    },
    {
      "cell_type": "markdown",
      "metadata": {
        "id": "a18M-19aoitq",
        "colab_type": "text"
      },
      "source": [
        "### Strings"
      ]
    },
    {
      "cell_type": "code",
      "metadata": {
        "id": "erJ3pkfsoitr",
        "colab_type": "code",
        "colab": {}
      },
      "source": [
        "message = ''"
      ],
      "execution_count": 0,
      "outputs": []
    },
    {
      "cell_type": "code",
      "metadata": {
        "id": "7My8_gZtoitu",
        "colab_type": "code",
        "colab": {}
      },
      "source": [
        "# what can we do with a string object?\n"
      ],
      "execution_count": 0,
      "outputs": []
    },
    {
      "cell_type": "markdown",
      "metadata": {
        "id": "08xVuHNFoitx",
        "colab_type": "text"
      },
      "source": [
        "### Numbers"
      ]
    },
    {
      "cell_type": "code",
      "metadata": {
        "id": "x2NaSYJaoitx",
        "colab_type": "code",
        "colab": {}
      },
      "source": [
        "# int \n",
        "\n",
        "# float\n"
      ],
      "execution_count": 0,
      "outputs": []
    },
    {
      "cell_type": "code",
      "metadata": {
        "id": "zlCGVCBooitz",
        "colab_type": "code",
        "colab": {}
      },
      "source": [
        ""
      ],
      "execution_count": 0,
      "outputs": []
    },
    {
      "cell_type": "markdown",
      "metadata": {
        "id": "XOkZcsUDoit1",
        "colab_type": "text"
      },
      "source": [
        "### Arithmetic "
      ]
    },
    {
      "cell_type": "code",
      "metadata": {
        "id": "NTL46-jGoit2",
        "colab_type": "code",
        "colab": {}
      },
      "source": [
        "# + \n",
        "\n",
        "# - \n",
        "\n",
        "# * \n",
        "\n",
        "# /\n",
        "\n",
        "# % --> Modulus\n",
        "\n",
        "# ** --> Exponent\n",
        "\n",
        "# // --> Floor Division\n",
        "\n"
      ],
      "execution_count": 0,
      "outputs": []
    },
    {
      "cell_type": "markdown",
      "metadata": {
        "id": "lctRqD4roit4",
        "colab_type": "text"
      },
      "source": [
        "### Help"
      ]
    },
    {
      "cell_type": "code",
      "metadata": {
        "id": "-2ZWazhXoit5",
        "colab_type": "code",
        "colab": {}
      },
      "source": [
        ""
      ],
      "execution_count": 0,
      "outputs": []
    },
    {
      "cell_type": "markdown",
      "metadata": {
        "id": "7uPkpfE3oit8",
        "colab_type": "text"
      },
      "source": [
        "### Python Booleans"
      ]
    },
    {
      "cell_type": "code",
      "metadata": {
        "id": "o3HHOYXloit9",
        "colab_type": "code",
        "colab": {}
      },
      "source": [
        ""
      ],
      "execution_count": 0,
      "outputs": []
    },
    {
      "cell_type": "code",
      "metadata": {
        "id": "ivGjYxa0oiuB",
        "colab_type": "code",
        "colab": {}
      },
      "source": [
        "# bool()\n"
      ],
      "execution_count": 0,
      "outputs": []
    },
    {
      "cell_type": "code",
      "metadata": {
        "id": "ETNAYDvaoiuE",
        "colab_type": "code",
        "colab": {}
      },
      "source": [
        "# Can we add Booleans to integers? \n"
      ],
      "execution_count": 0,
      "outputs": []
    },
    {
      "cell_type": "code",
      "metadata": {
        "id": "v0xQL-18oiuH",
        "colab_type": "code",
        "colab": {}
      },
      "source": [
        "# int()\n"
      ],
      "execution_count": 0,
      "outputs": []
    },
    {
      "cell_type": "markdown",
      "metadata": {
        "id": "iiiW6r1uoiuI",
        "colab_type": "text"
      },
      "source": [
        "### If, then, else"
      ]
    },
    {
      "cell_type": "code",
      "metadata": {
        "id": "Udg9dUtsoiuJ",
        "colab_type": "code",
        "colab": {}
      },
      "source": [
        ""
      ],
      "execution_count": 0,
      "outputs": []
    },
    {
      "cell_type": "markdown",
      "metadata": {
        "id": "u9G-1ZQLoiuL",
        "colab_type": "text"
      },
      "source": [
        "### Functions"
      ]
    },
    {
      "cell_type": "code",
      "metadata": {
        "id": "iorh4o12oiuM",
        "colab_type": "code",
        "colab": {}
      },
      "source": [
        ""
      ],
      "execution_count": 0,
      "outputs": []
    },
    {
      "cell_type": "code",
      "metadata": {
        "id": "uXlc_EKpoiuO",
        "colab_type": "code",
        "colab": {}
      },
      "source": [
        "# Default Parameter Value\n",
        "\n"
      ],
      "execution_count": 0,
      "outputs": []
    },
    {
      "cell_type": "markdown",
      "metadata": {
        "id": "wA7uBAoloiuP",
        "colab_type": "text"
      },
      "source": [
        "### Sets"
      ]
    },
    {
      "cell_type": "code",
      "metadata": {
        "id": "-xJRIVGUoiuQ",
        "colab_type": "code",
        "colab": {}
      },
      "source": [
        ""
      ],
      "execution_count": 0,
      "outputs": []
    },
    {
      "cell_type": "markdown",
      "metadata": {
        "id": "4MxSrmpdoiuS",
        "colab_type": "text"
      },
      "source": [
        "### Lists"
      ]
    },
    {
      "cell_type": "code",
      "metadata": {
        "id": "4B84udmJoiuS",
        "colab_type": "code",
        "colab": {}
      },
      "source": [
        ""
      ],
      "execution_count": 0,
      "outputs": []
    },
    {
      "cell_type": "markdown",
      "metadata": {
        "id": "CYW8Xxe1oiuU",
        "colab_type": "text"
      },
      "source": [
        "### Dictionaries"
      ]
    },
    {
      "cell_type": "code",
      "metadata": {
        "id": "YJ09sU_yoiuU",
        "colab_type": "code",
        "colab": {}
      },
      "source": [
        ""
      ],
      "execution_count": 0,
      "outputs": []
    },
    {
      "cell_type": "markdown",
      "metadata": {
        "id": "n8X0vNwloiuY",
        "colab_type": "text"
      },
      "source": [
        "### Tuples"
      ]
    },
    {
      "cell_type": "code",
      "metadata": {
        "id": "VWOi-CfCoiuZ",
        "colab_type": "code",
        "colab": {}
      },
      "source": [
        ""
      ],
      "execution_count": 0,
      "outputs": []
    },
    {
      "cell_type": "markdown",
      "metadata": {
        "id": "-ORXAjnHoiud",
        "colab_type": "text"
      },
      "source": [
        "### loops"
      ]
    },
    {
      "cell_type": "code",
      "metadata": {
        "id": "frkgK3vRoiuf",
        "colab_type": "code",
        "colab": {}
      },
      "source": [
        "# for \n",
        "\n",
        "\n",
        "# while \n"
      ],
      "execution_count": 0,
      "outputs": []
    },
    {
      "cell_type": "markdown",
      "metadata": {
        "id": "2RN3zeaLoiup",
        "colab_type": "text"
      },
      "source": [
        "### List Comprehension "
      ]
    },
    {
      "cell_type": "code",
      "metadata": {
        "id": "t0uNFiqToiup",
        "colab_type": "code",
        "colab": {}
      },
      "source": [
        ""
      ],
      "execution_count": 0,
      "outputs": []
    },
    {
      "cell_type": "markdown",
      "metadata": {
        "id": "Tu7yu50Voiur",
        "colab_type": "text"
      },
      "source": [
        "### Slicing "
      ]
    },
    {
      "cell_type": "code",
      "metadata": {
        "id": "eBNMraA6oius",
        "colab_type": "code",
        "colab": {}
      },
      "source": [
        ""
      ],
      "execution_count": 0,
      "outputs": []
    },
    {
      "cell_type": "markdown",
      "metadata": {
        "id": "gJD31_qJoiuu",
        "colab_type": "text"
      },
      "source": [
        "### Lambda Expressions & Anonymous Functions"
      ]
    },
    {
      "cell_type": "code",
      "metadata": {
        "id": "xT4YMRFCoiuv",
        "colab_type": "code",
        "colab": {}
      },
      "source": [
        ""
      ],
      "execution_count": 0,
      "outputs": []
    },
    {
      "cell_type": "markdown",
      "metadata": {
        "id": "vjG1_Qf1oiuw",
        "colab_type": "text"
      },
      "source": [
        "### Map, Filter functions"
      ]
    },
    {
      "cell_type": "code",
      "metadata": {
        "id": "Vce8B0Jvoiux",
        "colab_type": "code",
        "colab": {}
      },
      "source": [
        ""
      ],
      "execution_count": 0,
      "outputs": []
    },
    {
      "cell_type": "markdown",
      "metadata": {
        "id": "NaI3pSm1oiuy",
        "colab_type": "text"
      },
      "source": [
        "### Sorting"
      ]
    },
    {
      "cell_type": "code",
      "metadata": {
        "id": "c9jLE7N6oiuz",
        "colab_type": "code",
        "colab": {}
      },
      "source": [
        ""
      ],
      "execution_count": 0,
      "outputs": []
    },
    {
      "cell_type": "markdown",
      "metadata": {
        "id": "qo-xef0Joiu0",
        "colab_type": "text"
      },
      "source": [
        "### Zip and Enumerate"
      ]
    },
    {
      "cell_type": "code",
      "metadata": {
        "id": "-WUMzraAoiu1",
        "colab_type": "code",
        "colab": {}
      },
      "source": [
        "cast_names = [\"Barney\", \"Robin\", \"Ted\", \"Lily\", \"Marshall\"]\n",
        "cast_heights = [72, 68, 72, 66, 76]\n"
      ],
      "execution_count": 0,
      "outputs": []
    },
    {
      "cell_type": "code",
      "metadata": {
        "id": "yxyOhXmKoiu3",
        "colab_type": "code",
        "colab": {}
      },
      "source": [
        ""
      ],
      "execution_count": 0,
      "outputs": []
    },
    {
      "cell_type": "markdown",
      "metadata": {
        "id": "N9l02Nvzoiu5",
        "colab_type": "text"
      },
      "source": [
        "----\n",
        "## Exercises"
      ]
    },
    {
      "cell_type": "markdown",
      "metadata": {
        "id": "NH7zZRhaoiu6",
        "colab_type": "text"
      },
      "source": [
        "### Intermediate"
      ]
    },
    {
      "cell_type": "markdown",
      "metadata": {
        "id": "6Itc0jtpoiu7",
        "colab_type": "text"
      },
      "source": [
        "* **add all of the numbers from 1 to 100**\n",
        "\n"
      ]
    },
    {
      "cell_type": "code",
      "metadata": {
        "id": "Jn6mknf2oiu7",
        "colab_type": "code",
        "colab": {}
      },
      "source": [
        ""
      ],
      "execution_count": 0,
      "outputs": []
    },
    {
      "cell_type": "markdown",
      "metadata": {
        "id": "M1-tD33joiu-",
        "colab_type": "text"
      },
      "source": [
        "* **Extract the last 3 entries of the following list:**"
      ]
    },
    {
      "cell_type": "code",
      "metadata": {
        "id": "z5mzI0x7oiu-",
        "colab_type": "code",
        "colab": {}
      },
      "source": [
        "list1=[1,1,2,3,5,8,13,22]\n",
        "#Ans: \n"
      ],
      "execution_count": 0,
      "outputs": []
    },
    {
      "cell_type": "markdown",
      "metadata": {
        "id": "kVsATOGeoivC",
        "colab_type": "text"
      },
      "source": [
        "* **Take two lists, say for example these two:**\n",
        "\n",
        "`a = [1, 1, 2, 3, 5, 8, 13, 21, 34, 55, 89]`\n",
        "\n",
        "`b = [1, 2, 3, 4, 5, 6, 7, 8, 9, 10, 11, 12, 13]`\n",
        "\n",
        " **and write a program that returns a list that contains only the elements that are common between the lists Make sure your program works on two lists of different sizes.**\n",
        "\n"
      ]
    },
    {
      "cell_type": "code",
      "metadata": {
        "id": "5_Dch9JFoivD",
        "colab_type": "code",
        "colab": {}
      },
      "source": [
        "def common_btw_2(list1,list2):\n",
        "    # TODO\n",
        "    pass\n",
        "\n",
        "a = [1, 1, 2, 3, 5, 8, 13, 21, 34, 55, 89]\n",
        "b = [1, 2, 3, 4, 5, 6, 7, 8, 9, 10, 11, 12, 13]\n",
        "\n",
        "# test \n",
        "common_btw_2(list1=a,list2=b)"
      ],
      "execution_count": 0,
      "outputs": []
    },
    {
      "cell_type": "markdown",
      "metadata": {
        "id": "us4DWMdEoivG",
        "colab_type": "text"
      },
      "source": [
        "*  **using List Comprehensions, x to the power of 2 is evaluated if x is even for number 0-15**"
      ]
    },
    {
      "cell_type": "code",
      "metadata": {
        "id": "-BrCuX5HoivH",
        "colab_type": "code",
        "colab": {}
      },
      "source": [
        ""
      ],
      "execution_count": 0,
      "outputs": []
    },
    {
      "cell_type": "markdown",
      "metadata": {
        "id": "dq3QfqxDoivJ",
        "colab_type": "text"
      },
      "source": [
        "---\n",
        "### Project Euler Problems"
      ]
    },
    {
      "cell_type": "markdown",
      "metadata": {
        "id": "LPTit7oaoivK",
        "colab_type": "text"
      },
      "source": [
        "https://projecteuler.net/about"
      ]
    },
    {
      "cell_type": "markdown",
      "metadata": {
        "id": "TpSzcSjxoivL",
        "colab_type": "text"
      },
      "source": [
        "* **If we list all the natural numbers below 10 that are multiples of 3 or 5, we get 3, 5, 6 and 9. The sum of these multiples is 23. \n",
        "Find the sum of all the multiples of 3 or 5 below 1000.**\n",
        "> Check your answer in project eulr:  https://projecteuler.net/problem=1"
      ]
    },
    {
      "cell_type": "code",
      "metadata": {
        "id": "AGR4Sr0poivL",
        "colab_type": "code",
        "colab": {}
      },
      "source": [
        ""
      ],
      "execution_count": 0,
      "outputs": []
    },
    {
      "cell_type": "code",
      "metadata": {
        "id": "HkYi693XoivM",
        "colab_type": "code",
        "colab": {}
      },
      "source": [
        "# bonus: can you do it in one line? (hint: use list comprehension)\n"
      ],
      "execution_count": 0,
      "outputs": []
    },
    {
      "cell_type": "markdown",
      "metadata": {
        "id": "kZh9wdbToivO",
        "colab_type": "text"
      },
      "source": [
        "* **Each new term in the `Fibonacci sequence` is generated by adding the previous two terms. By starting with 1 and 2, the first 10 terms will be: `1, 2, 3, 5, 8, 13, 21, 34, 55, 89, ...`** \n",
        "\n",
        "\n",
        "* **By considering the terms in the `Fibonacci sequence` whose values do not exceed four million, find the sum of the even-valued terms.**\n",
        "> Check your answer in project eulr:  https://projecteuler.net/problem=2"
      ]
    },
    {
      "cell_type": "code",
      "metadata": {
        "id": "hNenliWIoivO",
        "colab_type": "code",
        "colab": {}
      },
      "source": [
        "# generate Fibonacci sequence --> do not exceed four million\n",
        "\n",
        "# taking even numbers only \n",
        "\n",
        "# sum\n"
      ],
      "execution_count": 0,
      "outputs": []
    },
    {
      "cell_type": "markdown",
      "metadata": {
        "id": "8vzH4tTkoivU",
        "colab_type": "text"
      },
      "source": [
        "* **The series, $1^1 + 2^2 + 3^3 + ... + 10^{10}$ = 10405071317.**\n",
        "\n",
        "* **Find the last ten digits of the series, $1^1 + 2^2 + 3^3 + ... + 1000^{1000}$.**\n",
        "\n",
        "> https://projecteuler.net/problem=48"
      ]
    },
    {
      "cell_type": "code",
      "metadata": {
        "id": "OcEvpakhoivV",
        "colab_type": "code",
        "colab": {}
      },
      "source": [
        ""
      ],
      "execution_count": 0,
      "outputs": []
    },
    {
      "cell_type": "markdown",
      "metadata": {
        "id": "8Pq_Css3oivY",
        "colab_type": "text"
      },
      "source": [
        "* **A palindromic number reads the same both ways. The largest palindrome made from the product of two 2-digit numbers is `9009 = 91 × 99`.**\n",
        "\n",
        "\n",
        "* **Find the largest palindrome made from the product of two 3-digit numbers.**\n",
        "\n",
        "> https://projecteuler.net/problem=4"
      ]
    },
    {
      "cell_type": "code",
      "metadata": {
        "id": "RoBLe6FvoivZ",
        "colab_type": "code",
        "colab": {}
      },
      "source": [
        ""
      ],
      "execution_count": 0,
      "outputs": []
    },
    {
      "cell_type": "markdown",
      "metadata": {
        "id": "n_bCai8doivb",
        "colab_type": "text"
      },
      "source": [
        "* **n! means n × (n − 1) × ... × 3 × 2 × 1**\n",
        "\n",
        "* **For example, 10! = 10 × 9 × ... × 3 × 2 × 1 = 3628800**\n",
        "\n",
        "* **and the sum of the digits in the number 10! is 3 + 6 + 2 + 8 + 8 + 0 + 0 = 27.**\n",
        "\n",
        "**Find the sum of the digits in the number 100!**\n",
        "\n",
        "> https://projecteuler.net/problem=20"
      ]
    },
    {
      "cell_type": "code",
      "metadata": {
        "id": "16I53AA3oivc",
        "colab_type": "code",
        "outputId": "e8ac17d1-7b03-41f5-aa6c-72031408ff1c",
        "colab": {
          "base_uri": "https://localhost:8080/",
          "height": 35
        }
      },
      "source": [
        "# (hint: use recursions)\n",
        "def n_factorial(n):\n",
        "    pass\n",
        "\n",
        "n_factorial(n=10)"
      ],
      "execution_count": 0,
      "outputs": [
        {
          "output_type": "execute_result",
          "data": {
            "text/plain": [
              "3628800"
            ]
          },
          "metadata": {
            "tags": []
          },
          "execution_count": 3
        }
      ]
    },
    {
      "cell_type": "code",
      "metadata": {
        "id": "kUMFgulynBxL",
        "colab_type": "code",
        "colab": {}
      },
      "source": [
        "# take the last ten digits"
      ],
      "execution_count": 0,
      "outputs": []
    },
    {
      "cell_type": "markdown",
      "metadata": {
        "id": "JlwuLsDNoivf",
        "colab_type": "text"
      },
      "source": [
        "* **By listing the first six prime numbers: 2, 3, 5, 7, 11, and 13, we can see that the 6th prime is 13.**\n",
        "\n",
        "* **What is the 10 001st prime number?**\n",
        "\n",
        "`A prime number is a whole number greater than 1 whose only factors are 1 and itself.`\n",
        "\n",
        "> https://projecteuler.net/problem=7"
      ]
    },
    {
      "cell_type": "code",
      "metadata": {
        "id": "tCrAtXj2oivh",
        "colab_type": "code",
        "colab": {}
      },
      "source": [
        "def is_prime(num):\n",
        "    pass"
      ],
      "execution_count": 0,
      "outputs": []
    },
    {
      "cell_type": "markdown",
      "metadata": {
        "colab_type": "text",
        "id": "tfMV3XU8l__r"
      },
      "source": [
        "### Challenging"
      ]
    },
    {
      "cell_type": "markdown",
      "metadata": {
        "id": "Nx5bsqKEu3Xt",
        "colab_type": "text"
      },
      "source": [
        "Surprisingly there are only three numbers that can be written as the sum of fourth powers of their digits:\n",
        "\n",
        "> $1634 = 1^4 + 6^4 + 3^4 + 4^4$\n",
        "\n",
        "> $8208 = 8^4 + 2^4 + 0^4 + 8^4$\n",
        "\n",
        "> $9474 = 9^4 + 4^4 + 7^4 + 4^4$\n",
        "\n",
        "As $1 = 1^4$ is not a sum it is not included.\n",
        "\n",
        "The sum of these numbers is 1634 + 8208 + 9474 = 19316.\n",
        "\n",
        "Find the sum of all the numbers that can be written as the sum of fifth powers of their digits.\n",
        "\n",
        "> https://projecteuler.net/problem=30"
      ]
    },
    {
      "cell_type": "code",
      "metadata": {
        "id": "MWM0khK2wXpd",
        "colab_type": "code",
        "colab": {}
      },
      "source": [
        ""
      ],
      "execution_count": 0,
      "outputs": []
    }
  ]
}